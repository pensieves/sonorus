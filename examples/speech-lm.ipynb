{
 "cells": [
  {
   "cell_type": "code",
   "execution_count": null,
   "id": "7eabfedf",
   "metadata": {},
   "outputs": [],
   "source": [
    "%load_ext autotime\n",
    "# %unload_ext autotime"
   ]
  },
  {
   "cell_type": "code",
   "execution_count": null,
   "id": "681cb0a1",
   "metadata": {},
   "outputs": [],
   "source": [
    "import sys\n",
    "sys.path.append(\"..\")"
   ]
  },
  {
   "cell_type": "code",
   "execution_count": null,
   "id": "5e123498",
   "metadata": {},
   "outputs": [],
   "source": [
    "from datasets import load_dataset\n",
    "from transformers import Wav2Vec2ForCTC, Wav2Vec2Tokenizer\n",
    "import soundfile as sf\n",
    "import torch\n",
    "from jiwer import wer\n",
    "\n",
    "from sonorus.speech.lm import (\n",
    "    FairseqTokenDictionary,\n",
    "    W2lKenLMDecoder,\n",
    "    W2lViterbiDecoder,\n",
    "    W2lFairseqLMDecoder,\n",
    ")"
   ]
  },
  {
   "cell_type": "code",
   "execution_count": null,
   "id": "a0a5f9c7",
   "metadata": {},
   "outputs": [],
   "source": [
    "librispeech_eval = load_dataset(\"librispeech_asr\", \"clean\", \n",
    "                                split=\"test\", \n",
    "                                ignore_verifications=True)#,\n",
    "                                # download_mode=\"force_redownload\")"
   ]
  },
  {
   "cell_type": "code",
   "execution_count": null,
   "id": "e2b1bbb8",
   "metadata": {},
   "outputs": [],
   "source": [
    "model = Wav2Vec2ForCTC.from_pretrained(\"facebook/wav2vec2-base-960h\").to(\"cuda\")\n",
    "tokenizer = Wav2Vec2Tokenizer.from_pretrained(\"facebook/wav2vec2-base-960h\")"
   ]
  },
  {
   "cell_type": "code",
   "execution_count": null,
   "id": "96c41452",
   "metadata": {},
   "outputs": [],
   "source": [
    "def map_to_array(batch):\n",
    "    speech, _ = sf.read(batch[\"file\"])\n",
    "    batch[\"speech\"] = speech\n",
    "    return batch"
   ]
  },
  {
   "cell_type": "code",
   "execution_count": null,
   "id": "af6e09d2",
   "metadata": {},
   "outputs": [],
   "source": [
    "librispeech_eval = librispeech_eval.map(map_to_array)"
   ]
  },
  {
   "cell_type": "code",
   "execution_count": null,
   "id": "2f96fcb0",
   "metadata": {},
   "outputs": [],
   "source": [
    "def map_to_pred(batch):\n",
    "    input_values = tokenizer(batch[\"speech\"], return_tensors=\"pt\", padding=\"longest\").input_values\n",
    "    with torch.no_grad():\n",
    "        logits = model(input_values.to(\"cuda\")).logits\n",
    "\n",
    "    predicted_ids = torch.argmax(logits, dim=-1)\n",
    "    transcription = tokenizer.batch_decode(predicted_ids)\n",
    "    batch[\"transcription\"] = transcription\n",
    "    return batch"
   ]
  },
  {
   "cell_type": "code",
   "execution_count": null,
   "id": "562986ab",
   "metadata": {},
   "outputs": [],
   "source": [
    "result = librispeech_eval.map(map_to_pred, batched=True, batch_size=1, remove_columns=[\"speech\"])\n",
    "# print(\"WER:\", wer(result[\"text\"], result[\"transcription\"]))"
   ]
  },
  {
   "cell_type": "code",
   "execution_count": null,
   "id": "3959b014",
   "metadata": {},
   "outputs": [],
   "source": [
    "# import pickle\n",
    "# with open(\"hf_transcriptions.pk\", \"wb\") as f:\n",
    "#     pickle.dump(result, f)\n",
    "# with open(\"hf_transcriptions.pk\", \"rb\") as f:\n",
    "#     result = pickle.load(f)\n",
    "# print(\"WER:\", wer(result[\"text\"][1000:], result[\"transcription\"][1000:]))"
   ]
  },
  {
   "cell_type": "code",
   "execution_count": null,
   "id": "2fcf00f0",
   "metadata": {},
   "outputs": [],
   "source": [
    "def map_to_pred_lm(batch):\n",
    "    input_values = tokenizer(batch[\"speech\"], return_tensors=\"pt\", padding=\"longest\").input_values\n",
    "    with torch.no_grad():\n",
    "        logits = model(input_values.to(\"cuda\")).logits\n",
    "\n",
    "    logits = logits.float().cpu().contiguous()\n",
    "    decoded = decoder.decode(logits)\n",
    "    # 1st sample, 1st best transcription\n",
    "    transcription = decoder.post_process(decoded)\n",
    "    batch[\"transcription\"] = transcription\n",
    "    return batch"
   ]
  },
  {
   "cell_type": "code",
   "execution_count": null,
   "id": "c710da32",
   "metadata": {},
   "outputs": [],
   "source": [
    "token_dict = FairseqTokenDictionary(\n",
    "    indexed_symbols=tokenizer.get_vocab()\n",
    ")"
   ]
  },
  {
   "cell_type": "code",
   "execution_count": null,
   "id": "48e9efe9",
   "metadata": {},
   "outputs": [],
   "source": [
    "lexicon_path = \"/home/harold/Documents/IISc-work/imperio/data/speech/fairseq/librispeech_lexicon.lst\"\n",
    "lm_path = \"/home/harold/Documents/IISc-work/imperio/data/speech/fairseq/lm_librispeech_kenlm_word_4g_200kvocab.bin\"\n",
    "\n",
    "decoder = W2lKenLMDecoder(\n",
    "    token_dict=token_dict,\n",
    "    lexicon=lexicon_path,\n",
    "    lang_model=lm_path,\n",
    "    beam=1500,\n",
    "    beam_size_token=100,\n",
    "    beam_threshold=25,\n",
    "    lm_weight=1.5,\n",
    "    word_weight=-1,\n",
    "    unk_weight=float(\"-inf\"),\n",
    "    sil_weight=0,\n",
    ")"
   ]
  },
  {
   "cell_type": "code",
   "execution_count": null,
   "id": "19e755ea",
   "metadata": {},
   "outputs": [],
   "source": [
    "result = librispeech_eval.map(map_to_pred_lm, batched=True, batch_size=1, remove_columns=[\"speech\"])\n",
    "# print(\"WER:\", wer(result[\"text\"], \n",
    "#                   [x[0] for x in result[\"transcription\"]]))"
   ]
  },
  {
   "cell_type": "code",
   "execution_count": null,
   "id": "28d50ffa",
   "metadata": {},
   "outputs": [],
   "source": [
    "print(\"WER:\", wer(result[\"text\"][1000:], \n",
    "                  [x[0] for x in result[\"transcription\"]][1000:]))"
   ]
  },
  {
   "cell_type": "code",
   "execution_count": null,
   "id": "9c5dd3eb",
   "metadata": {},
   "outputs": [],
   "source": []
  }
 ],
 "metadata": {
  "kernelspec": {
   "display_name": "Python 3",
   "language": "python",
   "name": "python3"
  },
  "language_info": {
   "codemirror_mode": {
    "name": "ipython",
    "version": 3
   },
   "file_extension": ".py",
   "mimetype": "text/x-python",
   "name": "python",
   "nbconvert_exporter": "python",
   "pygments_lexer": "ipython3",
   "version": "3.8.8"
  }
 },
 "nbformat": 4,
 "nbformat_minor": 5
}
