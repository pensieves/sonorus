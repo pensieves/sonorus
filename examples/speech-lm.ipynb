{
 "cells": [
  {
   "cell_type": "code",
   "execution_count": null,
   "id": "7eabfedf",
   "metadata": {},
   "outputs": [],
   "source": [
    "%load_ext autotime\n",
    "# %unload_ext autotime"
   ]
  },
  {
   "cell_type": "code",
   "execution_count": null,
   "id": "681cb0a1",
   "metadata": {},
   "outputs": [],
   "source": [
    "import sys\n",
    "sys.path.append(\"..\")"
   ]
  },
  {
   "cell_type": "code",
   "execution_count": null,
   "id": "5e123498",
   "metadata": {},
   "outputs": [],
   "source": [
    "from datasets import load_dataset\n",
    "from transformers import Wav2Vec2ForCTC, Wav2Vec2Tokenizer\n",
    "import soundfile as sf\n",
    "import torch\n",
    "from jiwer import wer\n",
    "\n",
    "from sonorus.speech.lm import (\n",
    "    FairseqTokenDictionary,\n",
    "    W2lKenLMDecoder,\n",
    "    W2lViterbiDecoder,\n",
    "    W2lFairseqLMDecoder,\n",
    ")"
   ]
  },
  {
   "cell_type": "code",
   "execution_count": null,
   "id": "a0a5f9c7",
   "metadata": {},
   "outputs": [],
   "source": [
    "librispeech_eval = load_dataset(\"librispeech_asr\", \"clean\", \n",
    "                                split=\"validation\", \n",
    "                                # split=\"test\",\n",
    "                                ignore_verifications=True)#,\n",
    "                                # download_mode=\"force_redownload\")"
   ]
  },
  {
   "cell_type": "code",
   "execution_count": null,
   "id": "e2b1bbb8",
   "metadata": {},
   "outputs": [],
   "source": [
    "model = Wav2Vec2ForCTC.from_pretrained(\"facebook/wav2vec2-base-960h\").to(\"cuda\")\n",
    "tokenizer = Wav2Vec2Tokenizer.from_pretrained(\"facebook/wav2vec2-base-960h\")"
   ]
  },
  {
   "cell_type": "code",
   "execution_count": null,
   "id": "96c41452",
   "metadata": {},
   "outputs": [],
   "source": [
    "def map_to_array(batch):\n",
    "    speech, _ = sf.read(batch[\"file\"])\n",
    "    batch[\"speech\"] = speech\n",
    "    return batch"
   ]
  },
  {
   "cell_type": "code",
   "execution_count": null,
   "id": "af6e09d2",
   "metadata": {},
   "outputs": [],
   "source": [
    "librispeech_eval = librispeech_eval.map(map_to_array)"
   ]
  },
  {
   "cell_type": "code",
   "execution_count": null,
   "id": "2f96fcb0",
   "metadata": {},
   "outputs": [],
   "source": [
    "def map_to_pred(batch):\n",
    "    input_values = tokenizer(batch[\"speech\"], return_tensors=\"pt\", padding=\"longest\").input_values\n",
    "    with torch.no_grad():\n",
    "        logits = model(input_values.to(\"cuda\")).logits\n",
    "\n",
    "    predicted_ids = torch.argmax(logits, dim=-1)\n",
    "    transcription = tokenizer.batch_decode(predicted_ids)\n",
    "    batch[\"transcription\"] = transcription\n",
    "    return batch"
   ]
  },
  {
   "cell_type": "code",
   "execution_count": null,
   "id": "956665a5-bdf1-4846-92cf-c5ab785e2694",
   "metadata": {},
   "outputs": [],
   "source": [
    "def get_wer(result, batch_size=-1, lm=False):\n",
    "    \n",
    "    def transcripts():\n",
    "        return ([x[0] for x in result[\"transcription\"]] \n",
    "                if lm else result[\"transcription\"])\n",
    "        \n",
    "    errors = []\n",
    "    \n",
    "    if batch_size > 0:\n",
    "        for i in range(0,len(result),batch_size):\n",
    "            errors.append(\n",
    "                wer(\n",
    "                    result[\"text\"][i:i+batch_size], \n",
    "                    transcripts()[i:i+batch_size]\n",
    "                )\n",
    "            )\n",
    "    else:\n",
    "        errors.append(wer(result[\"text\"], transcripts()))\n",
    "    \n",
    "    return np.mean(errors)"
   ]
  },
  {
   "cell_type": "code",
   "execution_count": null,
   "id": "562986ab",
   "metadata": {},
   "outputs": [],
   "source": [
    "result = librispeech_eval.map(map_to_pred, batched=True, batch_size=1, remove_columns=[\"speech\"])\n",
    "print(\"WER:\", get_wer(result, batch_size=1000, lm=False))"
   ]
  },
  {
   "cell_type": "code",
   "execution_count": null,
   "id": "2fcf00f0",
   "metadata": {},
   "outputs": [],
   "source": [
    "def map_to_pred_lm(batch):\n",
    "    input_values = tokenizer(batch[\"speech\"], return_tensors=\"pt\", padding=\"longest\").input_values\n",
    "    with torch.no_grad():\n",
    "        logits = model(input_values.to(\"cuda\")).logits\n",
    "\n",
    "    logits = logits.float().cpu().contiguous()\n",
    "    decoded = decoder.decode(logits)\n",
    "    # 1st sample, 1st best transcription\n",
    "    transcription = decoder.post_process(decoded)\n",
    "    batch[\"transcription\"] = transcription\n",
    "    return batch"
   ]
  },
  {
   "cell_type": "code",
   "execution_count": null,
   "id": "c710da32",
   "metadata": {},
   "outputs": [],
   "source": [
    "token_dict = FairseqTokenDictionary(\n",
    "    indexed_symbols=tokenizer.get_vocab()\n",
    ")"
   ]
  },
  {
   "cell_type": "code",
   "execution_count": null,
   "id": "48e9efe9",
   "metadata": {},
   "outputs": [],
   "source": [
    "lexicon_path = \"/home/harold/Documents/IISc-work/imperio/data/speech/fairseq/librispeech_lexicon.lst\"\n",
    "lm_path = \"/home/harold/Documents/IISc-work/imperio/data/speech/fairseq/lm_librispeech_kenlm_word_4g_200kvocab.bin\"\n",
    "\n",
    "# decoder = W2lKenLMDecoder(\n",
    "#     token_dict=token_dict,\n",
    "#     lexicon=lexicon_path,\n",
    "#     lang_model=lm_path,\n",
    "#     beam=1500,\n",
    "#     beam_size_token=100,\n",
    "#     beam_threshold=25,\n",
    "#     lm_weight=1.5,\n",
    "#     word_weight=-1,\n",
    "#     unk_weight=float(\"-inf\"),\n",
    "#     sil_weight=0,\n",
    "# )"
   ]
  },
  {
   "cell_type": "code",
   "execution_count": null,
   "id": "19e755ea",
   "metadata": {},
   "outputs": [],
   "source": [
    "result = librispeech_eval.map(map_to_pred_lm, batched=True, batch_size=1, remove_columns=[\"speech\"])\n",
    "print(\"WER:\", get_wer(result, batch_size=1000, lm=True))"
   ]
  },
  {
   "cell_type": "code",
   "execution_count": null,
   "id": "b4b3e9a5-146a-4619-8573-7d7eaeed6f91",
   "metadata": {},
   "outputs": [],
   "source": [
    "import optuna\n",
    "from optuna.integration import BoTorchSampler"
   ]
  },
  {
   "cell_type": "code",
   "execution_count": null,
   "id": "57d26c9e-dfb9-4bcc-9a81-8b67b5fc11c3",
   "metadata": {},
   "outputs": [],
   "source": [
    "n_startup_trials = 10\n",
    "bayes_opt_sampler = BoTorchSampler(n_startup_trials=n_startup_trials)\n",
    "study = optuna.create_study(sampler=bayes_opt_sampler)"
   ]
  },
  {
   "cell_type": "code",
   "execution_count": null,
   "id": "32a1e26a-f213-4eaa-a260-5a02ef21987a",
   "metadata": {},
   "outputs": [],
   "source": [
    "def objective(trial):\n",
    "    \n",
    "    lm_weight = trial.suggest_float(\"lm_weight\", 0, 5)\n",
    "    word_weight = trial.suggest_float(\"word_weight\", -5, 5)\n",
    "    sil_weight = trial.suggest_float(\"sil_weight\", -5, 5)\n",
    "    \n",
    "    decoder = W2lKenLMDecoder(\n",
    "        token_dict=token_dict,\n",
    "        lexicon=lexicon_path,\n",
    "        lang_model=lm_path,\n",
    "        beam=500,\n",
    "        beam_size_token=100,\n",
    "        beam_threshold=25,\n",
    "        lm_weight=lm_weight,\n",
    "        word_weight=word_weight,\n",
    "        unk_weight=float(\"-inf\"),\n",
    "        sil_weight=sil_weight,\n",
    "    )\n",
    "    \n",
    "    result = librispeech_eval.map(\n",
    "        map_to_pred_lm, \n",
    "        batched=True, \n",
    "        batch_size=1, \n",
    "        remove_columns=[\"speech\"]\n",
    "    )\n",
    "    \n",
    "    return get_wer(result, batch_size=1000, lm=True)"
   ]
  },
  {
   "cell_type": "code",
   "execution_count": null,
   "id": "c3b6ac3b-89c0-47c3-9b1f-6909dc36c47e",
   "metadata": {},
   "outputs": [],
   "source": [
    "n_trials=128\n",
    "study.optimize(objective, n_trials=n_trials, show_progress_bar=True)"
   ]
  },
  {
   "cell_type": "code",
   "execution_count": null,
   "id": "a96f7d61-c2b2-4c0e-a9c6-6c7dd97103cc",
   "metadata": {},
   "outputs": [],
   "source": [
    "import joblib\n",
    "joblib.dump(study, \"speech-lm-study.jb\")"
   ]
  },
  {
   "cell_type": "code",
   "execution_count": null,
   "id": "75c5c555-722a-4639-8e45-08dc355f28de",
   "metadata": {},
   "outputs": [],
   "source": []
  }
 ],
 "metadata": {
  "kernelspec": {
   "display_name": "Python 3",
   "language": "python",
   "name": "python3"
  },
  "language_info": {
   "codemirror_mode": {
    "name": "ipython",
    "version": 3
   },
   "file_extension": ".py",
   "mimetype": "text/x-python",
   "name": "python",
   "nbconvert_exporter": "python",
   "pygments_lexer": "ipython3",
   "version": "3.8.10"
  }
 },
 "nbformat": 4,
 "nbformat_minor": 5
}
