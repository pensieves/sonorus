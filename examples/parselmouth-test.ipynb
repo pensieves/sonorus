{
 "cells": [
  {
   "cell_type": "code",
   "execution_count": 1,
   "id": "2963329b",
   "metadata": {},
   "outputs": [
    {
     "data": {
      "text/html": [
       "<pre>✔️ 1.75 ms (2021-08-10T17:12:25/2021-08-10T17:12:25)</pre>"
      ],
      "text/plain": [
       "<IPython.core.display.HTML object>"
      ]
     },
     "metadata": {},
     "output_type": "display_data"
    }
   ],
   "source": [
    "%load_ext autotime\n",
    "# %unload_ext autotime"
   ]
  },
  {
   "cell_type": "code",
   "execution_count": 2,
   "id": "5fa29d57",
   "metadata": {},
   "outputs": [
    {
     "data": {
      "text/html": [
       "<pre>✔️ 2 ms (2021-08-10T17:12:25/2021-08-10T17:12:25)</pre>"
      ],
      "text/plain": [
       "<IPython.core.display.HTML object>"
      ]
     },
     "metadata": {},
     "output_type": "display_data"
    }
   ],
   "source": [
    "import sys\n",
    "sys.path.append(\"..\")"
   ]
  },
  {
   "cell_type": "code",
   "execution_count": 13,
   "id": "a86ec84e",
   "metadata": {},
   "outputs": [
    {
     "data": {
      "text/html": [
       "<pre>✔️ 293 ms (2021-08-10T17:16:44/2021-08-10T17:16:45)</pre>"
      ],
      "text/plain": [
       "<IPython.core.display.HTML object>"
      ]
     },
     "metadata": {},
     "output_type": "display_data"
    }
   ],
   "source": [
    "import numpy as np\n",
    "import parselmouth\n",
    "import pyaudio\n",
    "from sonorus.audio import VADAudioInputStreamer\n",
    "from sonorus.audio.utils import audio_float2int\n",
    "from sonorus.audio.praat import (reduce_noise, \n",
    "                                 change_gender, \n",
    "                                 change_pitch)\n",
    "from sonorus.speech import Wav2Vec2Featurizer\n",
    "from std_msgs.msg import UInt8MultiArray\n",
    "from IPython.display import Audio\n",
    "import librosa\n",
    "import soundfile as sf\n",
    "import ipywidgets\n",
    "import pickle\n",
    "import wave\n",
    "from tqdm import tqdm\n",
    "from pathlib import Path\n",
    "\n",
    "from sklearn.decomposition import PCA\n",
    "from sklearn.manifold import TSNE\n",
    "import matplotlib.pyplot as plt"
   ]
  },
  {
   "cell_type": "code",
   "execution_count": 4,
   "id": "32214367-00a4-477e-9813-51b05c18de2a",
   "metadata": {},
   "outputs": [
    {
     "data": {
      "text/html": [
       "<pre>✔️ 793 µs (2021-08-10T17:12:27/2021-08-10T17:12:27)</pre>"
      ],
      "text/plain": [
       "<IPython.core.display.HTML object>"
      ]
     },
     "metadata": {},
     "output_type": "display_data"
    }
   ],
   "source": [
    "libri_test_path = \"/home/harold/Documents/IISc-work/local-speech-generation/datasets/LibriTTS/test-clean\"\n",
    "female_dir = \"237\"\n",
    "male_dir = \"260\""
   ]
  },
  {
   "cell_type": "code",
   "execution_count": 5,
   "id": "47f70bb9-6bb1-4f1c-8def-74ae67d93a12",
   "metadata": {},
   "outputs": [
    {
     "data": {
      "text/html": [
       "<pre>✔️ 17.5 s (2021-08-10T17:12:28/2021-08-10T17:12:45)</pre>"
      ],
      "text/plain": [
       "<IPython.core.display.HTML object>"
      ]
     },
     "metadata": {},
     "output_type": "display_data"
    },
    {
     "name": "stderr",
     "output_type": "stream",
     "text": [
      "Some weights of Wav2Vec2Model were not initialized from the model checkpoint at facebook/wav2vec2-base-960h and are newly initialized: ['wav2vec2.masked_spec_embed']\n",
      "You should probably TRAIN this model on a down-stream task to be able to use it for predictions and inference.\n"
     ]
    }
   ],
   "source": [
    "female_audio_array = []\n",
    "female_file_array = []\n",
    "\n",
    "male_audio_array = []\n",
    "male_file_array = []\n",
    "\n",
    "featurizer = Wav2Vec2Featurizer(gpu_idx=0)"
   ]
  },
  {
   "cell_type": "code",
   "execution_count": 6,
   "id": "02d09dd2-b665-4980-8724-40770a3da6c2",
   "metadata": {},
   "outputs": [
    {
     "data": {
      "text/html": [
       "<pre>✔️ 1 min 1 s (2021-08-10T17:12:45/2021-08-10T17:13:47)</pre>"
      ],
      "text/plain": [
       "<IPython.core.display.HTML object>"
      ]
     },
     "metadata": {},
     "output_type": "display_data"
    },
    {
     "name": "stderr",
     "output_type": "stream",
     "text": [
      "279it [00:34,  7.98it/s]\n",
      "220it [00:26,  8.23it/s]\n"
     ]
    }
   ],
   "source": [
    "for directory, file_array, audio_array in \\\n",
    "        ((female_dir, female_file_array, female_audio_array),\n",
    "         (male_dir, male_file_array, male_audio_array)):\n",
    "    \n",
    "    for file in tqdm((Path(libri_test_path)/directory)\n",
    "                     .glob(\"**/*.wav\")):\n",
    "        file_array.append(file.name)\n",
    "        audio, sr = librosa.load(file, sr=16000, dtype=np.float64)\n",
    "        audio_array.append(featurizer.get_features(audio, sr)\n",
    "                           .cpu().numpy()[0].mean(axis=0))"
   ]
  },
  {
   "cell_type": "code",
   "execution_count": 14,
   "id": "45e73d00-4454-4084-b0eb-67ec32b27b91",
   "metadata": {},
   "outputs": [
    {
     "data": {
      "text/html": [
       "<pre>✔️ 25.7 ms (2021-08-10T17:18:14/2021-08-10T17:18:14)</pre>"
      ],
      "text/plain": [
       "<IPython.core.display.HTML object>"
      ]
     },
     "metadata": {},
     "output_type": "display_data"
    }
   ],
   "source": [
    "pca = PCA(n_components=50, random_state=42)\n",
    "female_audio = pca.fit_transform(female_audio_array)\n",
    "female_idx = np.zeros(len(female_audio))\n",
    "\n",
    "male_audio = pca.transform(male_audio_array)\n",
    "male_idx = np.ones(len(male_audio))\n",
    "\n",
    "combined_audio = np.vstack((female_audio, male_audio))\n",
    "combined_idx = np.hstack((female_idx, male_idx))\n",
    "female_idx = (combined_idx==0)\n",
    "male_idx = (combined_idx==1)"
   ]
  },
  {
   "cell_type": "code",
   "execution_count": 15,
   "id": "fc37609c-7f9c-4662-a1de-19eee8665906",
   "metadata": {},
   "outputs": [
    {
     "data": {
      "text/html": [
       "<pre>✔️ 2.09 s (2021-08-10T17:19:56/2021-08-10T17:19:58)</pre>"
      ],
      "text/plain": [
       "<IPython.core.display.HTML object>"
      ]
     },
     "metadata": {},
     "output_type": "display_data"
    },
    {
     "data": {
      "text/plain": [
       "<matplotlib.collections.PathCollection at 0x7fb042722b20>"
      ]
     },
     "execution_count": 15,
     "metadata": {},
     "output_type": "execute_result"
    },
    {
     "data": {
      "image/png": "[encoded data removed]",
      "text/plain": [
       "<Figure size 432x288 with 1 Axes>"
      ]
     },
     "metadata": {
      "needs_background": "light"
     },
     "output_type": "display_data"
    }
   ],
   "source": [
    "tsne = TSNE(n_components=2, random_state=42)\n",
    "audio = tsne.fit_transform(combined_audio)\n",
    "plt.scatter(audio[female_idx, 0], audio[female_idx, 1], c=\"r\")\n",
    "plt.scatter(audio[male_idx, 0], audio[male_idx, 1], c=\"g\")"
   ]
  },
  {
   "cell_type": "code",
   "execution_count": null,
   "id": "4dcb9cc3-a395-4399-b65e-ff49ecfee1fb",
   "metadata": {},
   "outputs": [],
   "source": []
  },
  {
   "cell_type": "code",
   "execution_count": null,
   "id": "071c3e72",
   "metadata": {},
   "outputs": [],
   "source": [
    "male_file = \"/home/harold/Downloads/chapter-33.wav\"\n",
    "# male_file = \"/home/harold/Downloads/long.wav\"\n",
    "# male_file = \"/home/harold/Downloads/coffee-01.wav\""
   ]
  },
  {
   "cell_type": "code",
   "execution_count": null,
   "id": "f375e26a",
   "metadata": {},
   "outputs": [],
   "source": [
    "audio, sr = librosa.load(male_file, sr=24000, dtype=np.float64)\n",
    "male_sound = parselmouth.Sound(values=audio, sampling_frequency=sr)\n",
    "print(male_sound.values, male_sound.sampling_frequency)\n",
    "Audio(data=male_sound.values, \n",
    "      rate=male_sound.sampling_frequency)"
   ]
  },
  {
   "cell_type": "code",
   "execution_count": null,
   "id": "ad0e0959",
   "metadata": {},
   "outputs": [],
   "source": [
    "noise_reduced_sound = male_sound\n",
    "# noise_reduced_sound = reduce_noise(male_sound)\n",
    "# print(noise_reduced_sound.values, \n",
    "#       noise_reduced_sound.sampling_frequency)\n",
    "# Audio(data=noise_reduced_sound.values, \n",
    "#       rate=noise_reduced_sound.sampling_frequency)"
   ]
  },
  {
   "cell_type": "code",
   "execution_count": null,
   "id": "044e2a41",
   "metadata": {},
   "outputs": [],
   "source": [
    "female_sound = change_gender(noise_reduced_sound, \n",
    "                             formant_shift_ratio=1.12,\n",
    "                             pitch_range_factor=1.0)\n",
    "print(female_sound.values, \n",
    "      female_sound.sampling_frequency)\n",
    "Audio(data=female_sound.values, \n",
    "      rate=female_sound.sampling_frequency)\n",
    "\n",
    "# def interactive_change_gender(sound_file=male_file, factor=1.2):\n",
    "#     sound = parselmouth.Sound(sound_file)\n",
    "#     sound_changed_gender = change_gender(sound, formant_shift_ratio=factor)\n",
    "#     return Audio(data=sound_changed_gender.values, rate=sound_changed_gender.sampling_frequency)\n",
    "\n",
    "# w = ipywidgets.interact(interactive_change_gender,\n",
    "#                         factor=ipywidgets.FloatSlider(min=0.25, \n",
    "#                                                       max=4, \n",
    "#                                                       step=0.05, \n",
    "#                                                       value=1.2))"
   ]
  },
  {
   "cell_type": "code",
   "execution_count": null,
   "id": "5555887d",
   "metadata": {},
   "outputs": [],
   "source": [
    "pitch_sound = change_pitch(noise_reduced_sound, \n",
    "                           factor=1.5)\n",
    "print(pitch_sound.values, \n",
    "      pitch_sound.sampling_frequency)\n",
    "Audio(data=pitch_sound.values, \n",
    "      rate=pitch_sound.sampling_frequency)\n",
    "\n",
    "# def interactive_change_pitch(sound_file=male_file, factor=1.5):\n",
    "#     sound = parselmouth.Sound(sound_file)\n",
    "#     sound_changed_pitch = change_pitch(sound, factor)\n",
    "#     return Audio(data=sound_changed_pitch.values, rate=sound_changed_pitch.sampling_frequency)\n",
    "\n",
    "# w = ipywidgets.interact(interactive_change_pitch,\n",
    "#                         factor=ipywidgets.FloatSlider(min=0.25, \n",
    "#                                                       max=4, \n",
    "#                                                       step=0.05, \n",
    "#                                                       value=1.5))"
   ]
  },
  {
   "cell_type": "code",
   "execution_count": null,
   "id": "6634071d",
   "metadata": {},
   "outputs": [],
   "source": [
    "# sf.write(\n",
    "#     file=male_file[:-4]+\"-pitch-changed.wav\",\n",
    "#     data=audio_float2int(pitch_sound.values)[0],\n",
    "#     samplerate=sr,\n",
    "# )"
   ]
  },
  {
   "cell_type": "code",
   "execution_count": null,
   "id": "010506ac",
   "metadata": {},
   "outputs": [],
   "source": [
    "from kaldi.feat.mfcc import Mfcc, MfccOptions\n",
    "from kaldi.feat.mel import MelBanksOptions\n",
    "from kaldi.matrix import Vector\n",
    "from kaldi.gmm import DiagGmm\n",
    "from kaldi.base.io import istream, ifstream"
   ]
  },
  {
   "cell_type": "code",
   "execution_count": null,
   "id": "653dddeb",
   "metadata": {},
   "outputs": [],
   "source": [
    "mel_opts = MelBanksOptions(num_bins=40)\n",
    "mel_opts.low_freq = 20\n",
    "mel_opts.high_freq = -400\n",
    "\n",
    "mfcc_opts = MfccOptions()\n",
    "mfcc_opts.num_ceps = 40\n",
    "mfcc_opts.mel_opts = mel_opts\n",
    "mfcc_opts.use_energy = False\n",
    "\n",
    "mfcc = Mfcc(mfcc_opts)"
   ]
  },
  {
   "cell_type": "code",
   "execution_count": null,
   "id": "da75cee6",
   "metadata": {},
   "outputs": [],
   "source": [
    "mfcc.compute(wave=Vector(pitch_sound.values[0]), vtln_warp=1)"
   ]
  },
  {
   "cell_type": "code",
   "execution_count": null,
   "id": "869dde3b",
   "metadata": {},
   "outputs": [],
   "source": [
    "# gmm_path = \"/home/harold/Documents/IISc-work/\"\\\n",
    "#             \"local-speech-generation/kaldi/s5/\"\\\n",
    "#             \"exp/nnet3_cleaned/extractor/final.dubm\"\n",
    "# stream = ifstream.from_file(gmm_path)\n",
    "# dubm = DiagGmm.read(stream)"
   ]
  },
  {
   "cell_type": "code",
   "execution_count": null,
   "id": "8f27696b",
   "metadata": {},
   "outputs": [],
   "source": [
    "from sonorus.speech.kaldi.create_confs import (create_mfcc_conf,\n",
    "                                               create_ivector_extractor_conf)\n",
    "\n",
    "from sonorus.speech.kaldi import PhonemeSegmenter"
   ]
  },
  {
   "cell_type": "code",
   "execution_count": null,
   "id": "f0016120-a6ac-4767-bf96-76ade4af9602",
   "metadata": {},
   "outputs": [],
   "source": [
    "phoneme_segmenter = PhonemeSegmenter.from_url(force_download=False)"
   ]
  },
  {
   "cell_type": "code",
   "execution_count": null,
   "id": "0a8a2397",
   "metadata": {},
   "outputs": [],
   "source": [
    "wav_file = \"/home/harold/Pictures/data/test/chapter-33-pitch-changed.wav\"\n",
    "wav_scp = \"/home/harold/Pictures/data/test/wav.scp\"\n",
    "spk2utt = \"/home/harold/Pictures/data/test/spk2utt\""
   ]
  },
  {
   "cell_type": "code",
   "execution_count": null,
   "id": "089829c5",
   "metadata": {},
   "outputs": [],
   "source": [
    "seg = phoneme_segmenter.segment(pitch_sound.values, sample_rate=sr)\n",
    "seg"
   ]
  },
  {
   "cell_type": "code",
   "execution_count": null,
   "id": "9ada6fc0",
   "metadata": {},
   "outputs": [],
   "source": [
    "from hr.lip_control import PhonemesPublisher\n",
    "\n",
    "phoneme_pub = PhonemesPublisher()\n",
    "phoneme_pub.to_visemes(seg[\"utt1\"][\"phonemes\"])"
   ]
  },
  {
   "cell_type": "code",
   "execution_count": null,
   "id": "09bbd854",
   "metadata": {},
   "outputs": [],
   "source": [
    "from sonorus.audio import VADAudioInputStreamer"
   ]
  },
  {
   "cell_type": "code",
   "execution_count": null,
   "id": "5825e05c",
   "metadata": {},
   "outputs": [],
   "source": [
    "audio_streamer = VADAudioInputStreamer(\n",
    "    pa_format=pyaudio.paInt16, \n",
    ")\n",
    "\n",
    "with audio_streamer as streamer:\n",
    "        for stream in streamer.stream():\n",
    "            if stream is not None:\n",
    "                audio = np.frombuffer(stream, dtype=np.int16)\n",
    "                print(audio.shape, audio[:5])\n",
    "                phonemes = phoneme_segmenter.segment(\n",
    "                    audio, sample_rate=streamer.processing_rate)\n",
    "                print(phonemes)"
   ]
  }
 ],
 "metadata": {
  "kernelspec": {
   "display_name": "Python 3",
   "language": "python",
   "name": "python3"
  },
  "language_info": {
   "codemirror_mode": {
    "name": "ipython",
    "version": 3
   },
   "file_extension": ".py",
   "mimetype": "text/x-python",
   "name": "python",
   "nbconvert_exporter": "python",
   "pygments_lexer": "ipython3",
   "version": "3.8.10"
  }
 },
 "nbformat": 4,
 "nbformat_minor": 5
}
