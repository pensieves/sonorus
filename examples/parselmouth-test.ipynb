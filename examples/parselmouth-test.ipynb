{
 "cells": [
  {
   "cell_type": "code",
   "execution_count": 1,
   "id": "2963329b",
   "metadata": {},
   "outputs": [
    {
     "data": {
      "text/html": [
       "<pre>✔️ 779 µs (2021-08-12T22:23:47/2021-08-12T22:23:47)</pre>"
      ],
      "text/plain": [
       "<IPython.core.display.HTML object>"
      ]
     },
     "metadata": {},
     "output_type": "display_data"
    }
   ],
   "source": [
    "%load_ext autotime\n",
    "# %unload_ext autotime"
   ]
  },
  {
   "cell_type": "code",
   "execution_count": 2,
   "id": "5fa29d57",
   "metadata": {},
   "outputs": [
    {
     "data": {
      "text/html": [
       "<pre>✔️ 2.14 ms (2021-08-12T22:23:47/2021-08-12T22:23:47)</pre>"
      ],
      "text/plain": [
       "<IPython.core.display.HTML object>"
      ]
     },
     "metadata": {},
     "output_type": "display_data"
    }
   ],
   "source": [
    "import sys\n",
    "sys.path.append(\"..\")"
   ]
  },
  {
   "cell_type": "code",
   "execution_count": 3,
   "id": "a86ec84e",
   "metadata": {},
   "outputs": [
    {
     "data": {
      "text/html": [
       "<pre>✔️ 2.2 s (2021-08-12T22:23:47/2021-08-12T22:23:49)</pre>"
      ],
      "text/plain": [
       "<IPython.core.display.HTML object>"
      ]
     },
     "metadata": {},
     "output_type": "display_data"
    }
   ],
   "source": [
    "import numpy as np\n",
    "import parselmouth\n",
    "import pyaudio\n",
    "from sonorus.audio import VADAudioInputStreamer\n",
    "from sonorus.audio.utils import audio_float2int\n",
    "from sonorus.audio.praat import (reduce_noise, \n",
    "                                 change_gender, \n",
    "                                 change_pitch)\n",
    "from sonorus.speech import Wav2Vec2Featurizer\n",
    "from std_msgs.msg import UInt8MultiArray\n",
    "from IPython.display import Audio\n",
    "import librosa\n",
    "import soundfile as sf\n",
    "import ipywidgets\n",
    "import pickle\n",
    "import wave\n",
    "from tqdm import tqdm\n",
    "from pathlib import Path\n",
    "\n",
    "from sklearn.decomposition import PCA\n",
    "from sklearn.manifold import TSNE\n",
    "from scipy import linalg\n",
    "import matplotlib.pyplot as plt"
   ]
  },
  {
   "cell_type": "code",
   "execution_count": 4,
   "id": "5ecc6e60-9519-4986-8807-76c56a39f2c8",
   "metadata": {},
   "outputs": [
    {
     "data": {
      "text/html": [
       "<pre>✔️ 13.3 s (2021-08-12T22:23:50/2021-08-12T22:24:03)</pre>"
      ],
      "text/plain": [
       "<IPython.core.display.HTML object>"
      ]
     },
     "metadata": {},
     "output_type": "display_data"
    },
    {
     "name": "stderr",
     "output_type": "stream",
     "text": [
      "Some weights of Wav2Vec2Model were not initialized from the model checkpoint at facebook/wav2vec2-base-960h and are newly initialized: ['wav2vec2.masked_spec_embed']\n",
      "You should probably TRAIN this model on a down-stream task to be able to use it for predictions and inference.\n"
     ]
    }
   ],
   "source": [
    "def get_features(\n",
    "    audio,\n",
    "    sample_rate=16000,\n",
    "    featurizer=Wav2Vec2Featurizer(),\n",
    "):\n",
    "    features = []\n",
    "    \n",
    "    for aud in audio:\n",
    "        features.append(\n",
    "            featurizer.get_features(aud, sample_rate)\n",
    "                .cpu().numpy()[0].mean(axis=0)\n",
    "        )\n",
    "    \n",
    "    return np.array(features)\n",
    "\n",
    "def audio_from_files(\n",
    "    directory, \n",
    "    file_ext=\"wav\", \n",
    "    sample_rate=16000,\n",
    "    sort_files=True,\n",
    "):\n",
    "    file, audio = [], []\n",
    "    filenames = Path(directory).glob(f\"**/*.{file_ext}\")\n",
    "    if sort_files:\n",
    "        filenames = sorted(filenames)\n",
    "    \n",
    "    for f in tqdm(filenames):\n",
    "        file.append(f.name)\n",
    "        aud, _ = librosa.load(f, sr=sample_rate)\n",
    "        audio.append(aud)\n",
    "    \n",
    "    return file, audio"
   ]
  },
  {
   "cell_type": "code",
   "execution_count": 5,
   "id": "45e73d00-4454-4084-b0eb-67ec32b27b91",
   "metadata": {},
   "outputs": [
    {
     "data": {
      "text/html": [
       "<pre>✔️ 986 µs (2021-08-12T22:24:03/2021-08-12T22:24:03)</pre>"
      ],
      "text/plain": [
       "<IPython.core.display.HTML object>"
      ]
     },
     "metadata": {},
     "output_type": "display_data"
    }
   ],
   "source": [
    "def to_tsne(\n",
    "    src_feats, \n",
    "    tgt_feats, \n",
    "    pca_components=50, \n",
    "    random_state=42\n",
    "):\n",
    "    pca_components = min(pca_components, *tgt_feats.shape)\n",
    "    pca = PCA(n_components=pca_components, \n",
    "              random_state=random_state)\n",
    "    \n",
    "    tgt_feats = pca.fit_transform(tgt_feats)\n",
    "    tgt_idx = np.zeros(len(tgt_feats))\n",
    "\n",
    "    src_feats = pca.transform(src_feats)\n",
    "    src_idx = np.ones(len(src_feats))\n",
    "\n",
    "    feats = np.vstack((tgt_feats, src_feats))\n",
    "    idx = np.hstack((tgt_idx, src_idx))\n",
    "    \n",
    "    tgt_idx = (idx==0)\n",
    "    src_idx = (idx==1)\n",
    "    \n",
    "    tsne = TSNE(n_components=2, random_state=random_state)\n",
    "    feats = tsne.fit_transform(feats)\n",
    "    \n",
    "    src_plt = plt.scatter(feats[src_idx, 0], \n",
    "                          feats[src_idx, 1], c=\"r\")\n",
    "    \n",
    "    tgt_plt = plt.scatter(feats[tgt_idx, 0], \n",
    "                          feats[tgt_idx, 1], c=\"g\")\n",
    "    \n",
    "    plt.legend((src_plt, tgt_plt), (\"Source\", \"Target\"))"
   ]
  },
  {
   "cell_type": "code",
   "execution_count": 6,
   "id": "fc37609c-7f9c-4662-a1de-19eee8665906",
   "metadata": {},
   "outputs": [
    {
     "data": {
      "text/html": [
       "<pre>✔️ 23.8 s (2021-08-12T22:24:03/2021-08-12T22:24:27)</pre>"
      ],
      "text/plain": [
       "<IPython.core.display.HTML object>"
      ]
     },
     "metadata": {},
     "output_type": "display_data"
    },
    {
     "name": "stderr",
     "output_type": "stream",
     "text": [
      "Some weights of Wav2Vec2Model were not initialized from the model checkpoint at facebook/wav2vec2-base-960h and are newly initialized: ['wav2vec2.masked_spec_embed']\n",
      "You should probably TRAIN this model on a down-stream task to be able to use it for predictions and inference.\n"
     ]
    }
   ],
   "source": [
    "test_dir = Path(\"/home/harold/Downloads/auto_voice_tune/\")\n",
    "src_dir = \"male\"\n",
    "tgt_dir = \"female\"\n",
    "featurizer = Wav2Vec2Featurizer(gpu_idx=0)"
   ]
  },
  {
   "cell_type": "code",
   "execution_count": 7,
   "id": "02cdc759-ffed-4b1f-9515-929cf0cea1b8",
   "metadata": {},
   "outputs": [
    {
     "data": {
      "text/html": [
       "<pre>✔️ 2.13 s (2021-08-12T22:24:27/2021-08-12T22:24:29)</pre>"
      ],
      "text/plain": [
       "<IPython.core.display.HTML object>"
      ]
     },
     "metadata": {},
     "output_type": "display_data"
    },
    {
     "name": "stderr",
     "output_type": "stream",
     "text": [
      "100%|██████████| 5/5 [00:00<00:00, 1256.83it/s]\n",
      "100%|██████████| 5/5 [00:00<00:00,  5.08it/s]\n"
     ]
    },
    {
     "data": {
      "image/png": "[encoded data removed]",
      "text/plain": [
       "<Figure size 432x288 with 1 Axes>"
      ]
     },
     "metadata": {
      "needs_background": "light"
     },
     "output_type": "display_data"
    }
   ],
   "source": [
    "src_file, src_audio = audio_from_files(test_dir/src_dir)\n",
    "tgt_file, tgt_audio = audio_from_files(test_dir/tgt_dir)\n",
    "\n",
    "src_feats = get_features(src_audio, featurizer=featurizer)\n",
    "tgt_feats = get_features(tgt_audio, featurizer=featurizer)\n",
    "to_tsne(src_feats, tgt_feats)"
   ]
  },
  {
   "cell_type": "code",
   "execution_count": 8,
   "id": "4bf8a91c-5d5c-48dc-a5e0-70f86a4c3d71",
   "metadata": {},
   "outputs": [
    {
     "data": {
      "text/html": [
       "<pre>✔️ 2.76 ms (2021-08-12T22:24:29/2021-08-12T22:24:29)</pre>"
      ],
      "text/plain": [
       "<IPython.core.display.HTML object>"
      ]
     },
     "metadata": {},
     "output_type": "display_data"
    }
   ],
   "source": [
    "def change_audio(\n",
    "    audio,\n",
    "    sample_rate=16000,\n",
    "    func=change_pitch, \n",
    "    func_kwargs=dict(factor=1.5),\n",
    "):\n",
    "    \n",
    "    changed_audio = []\n",
    "    for aud in audio:\n",
    "\n",
    "        aud = parselmouth.Sound(\n",
    "            values=aud, \n",
    "            sampling_frequency=sample_rate\n",
    "        )\n",
    "        \n",
    "        changed_audio.append(\n",
    "            func(aud, **func_kwargs).values[0]\n",
    "        )\n",
    "    \n",
    "    return changed_audio"
   ]
  },
  {
   "cell_type": "code",
   "execution_count": 9,
   "id": "54dcac96-179a-4d14-afb3-fbdd9cfc7046",
   "metadata": {},
   "outputs": [
    {
     "data": {
      "text/html": [
       "<pre>✔️ 2.59 ms (2021-08-12T22:24:29/2021-08-12T22:24:29)</pre>"
      ],
      "text/plain": [
       "<IPython.core.display.HTML object>"
      ]
     },
     "metadata": {},
     "output_type": "display_data"
    }
   ],
   "source": [
    "def frechet_distance(src, tgt, eps=1e-6):\n",
    "    \n",
    "    mu_src = np.mean(src, axis=0)\n",
    "    sigma_src = np.cov(src, rowvar=False)\n",
    "    \n",
    "    mu_tgt = np.mean(tgt, axis=0)\n",
    "    sigma_tgt = np.cov(tgt, rowvar=False)\n",
    "\n",
    "    diff = mu_tgt - mu_src\n",
    "    \n",
    "    # product might be almost singular\n",
    "    offset = np.eye(sigma_tgt.shape[0]) * eps\n",
    "    covmean = linalg.sqrtm(\n",
    "        (sigma_tgt + offset).dot(sigma_src + offset)\n",
    "    )\n",
    "    \n",
    "    # numerical error might give slight imaginary component\n",
    "    if np.iscomplexobj(covmean):\n",
    "        if not np.allclose(np.diagonal(covmean).imag, 0, atol=1e-3):\n",
    "            m = np.max(np.abs(covmean.imag))\n",
    "            raise ValueError(\"Imaginary component {}\".format(m))\n",
    "        covmean = covmean.real\n",
    "\n",
    "    tr_covmean = np.trace(covmean)\n",
    "\n",
    "    fd = diff.dot(diff) + np.trace(sigma_tgt) + np.trace(sigma_src) - 2 * tr_covmean\n",
    "    return fd"
   ]
  },
  {
   "cell_type": "code",
   "execution_count": 10,
   "id": "f7d43a76-160a-4362-a7a4-451adc91efbb",
   "metadata": {},
   "outputs": [
    {
     "data": {
      "text/html": [
       "<pre>✔️ 707 ms (2021-08-12T22:24:30/2021-08-12T22:24:30)</pre>"
      ],
      "text/plain": [
       "<IPython.core.display.HTML object>"
      ]
     },
     "metadata": {},
     "output_type": "display_data"
    },
    {
     "data": {
      "image/png": "[encoded data removed]",
      "text/plain": [
       "<Figure size 432x288 with 1 Axes>"
      ]
     },
     "metadata": {
      "needs_background": "light"
     },
     "output_type": "display_data"
    }
   ],
   "source": [
    "changed_src_audio = change_audio(\n",
    "    src_audio,\n",
    "    func=change_pitch, \n",
    "    func_kwargs=dict(factor=1.5),\n",
    ")\n",
    "\n",
    "# changed_src_audio = change_audio(\n",
    "#     src_audio,\n",
    "#     func=change_gender, \n",
    "#     func_kwargs=dict(formant_shift_ratio=1.12),\n",
    "# )\n",
    "\n",
    "changed_src_feats = get_features(changed_src_audio, \n",
    "                                 featurizer=featurizer)\n",
    "to_tsne(changed_src_feats, tgt_feats)"
   ]
  },
  {
   "cell_type": "code",
   "execution_count": 11,
   "id": "4dcb9cc3-a395-4399-b65e-ff49ecfee1fb",
   "metadata": {},
   "outputs": [
    {
     "data": {
      "text/html": [
       "<pre>✔️ 305 ms (2021-08-12T22:24:30/2021-08-12T22:24:31)</pre>"
      ],
      "text/plain": [
       "<IPython.core.display.HTML object>"
      ]
     },
     "metadata": {},
     "output_type": "display_data"
    },
    {
     "data": {
      "image/png": "[encoded data removed]",
      "text/plain": [
       "<Figure size 432x288 with 1 Axes>"
      ]
     },
     "metadata": {
      "needs_background": "light"
     },
     "output_type": "display_data"
    }
   ],
   "source": [
    "to_tsne(src_feats, changed_src_feats)"
   ]
  },
  {
   "cell_type": "code",
   "execution_count": 12,
   "id": "cf0d7c1f-a6a9-4e96-97a7-d03bb47527a0",
   "metadata": {},
   "outputs": [
    {
     "data": {
      "text/html": [
       "<pre>✔️ 1.34 s (2021-08-12T22:24:31/2021-08-12T22:24:32)</pre>"
      ],
      "text/plain": [
       "<IPython.core.display.HTML object>"
      ]
     },
     "metadata": {},
     "output_type": "display_data"
    },
    {
     "data": {
      "text/plain": [
       "(2.207684714422652, 3.1090320590858944)"
      ]
     },
     "execution_count": 12,
     "metadata": {},
     "output_type": "execute_result"
    }
   ],
   "source": [
    "(frechet_distance(src_feats, tgt_feats), \n",
    " frechet_distance(changed_src_feats, tgt_feats))"
   ]
  },
  {
   "cell_type": "code",
   "execution_count": null,
   "id": "68b717af-521d-460d-82df-abbcdbd1d81f",
   "metadata": {},
   "outputs": [],
   "source": []
  },
  {
   "cell_type": "code",
   "execution_count": null,
   "id": "071c3e72",
   "metadata": {},
   "outputs": [],
   "source": [
    "male_file = \"/home/harold/Downloads/chapter-33.wav\"\n",
    "# male_file = \"/home/harold/Downloads/long.wav\"\n",
    "# male_file = \"/home/harold/Downloads/coffee-01.wav\""
   ]
  },
  {
   "cell_type": "code",
   "execution_count": null,
   "id": "f375e26a",
   "metadata": {},
   "outputs": [],
   "source": [
    "audio, sr = librosa.load(male_file, sr=24000, dtype=np.float64)\n",
    "male_sound = parselmouth.Sound(values=audio, sampling_frequency=sr)\n",
    "print(male_sound.values, male_sound.sampling_frequency)\n",
    "Audio(data=male_sound.values, \n",
    "      rate=male_sound.sampling_frequency)"
   ]
  },
  {
   "cell_type": "code",
   "execution_count": null,
   "id": "ad0e0959",
   "metadata": {},
   "outputs": [],
   "source": [
    "noise_reduced_sound = male_sound\n",
    "# noise_reduced_sound = reduce_noise(male_sound)\n",
    "# print(noise_reduced_sound.values, \n",
    "#       noise_reduced_sound.sampling_frequency)\n",
    "# Audio(data=noise_reduced_sound.values, \n",
    "#       rate=noise_reduced_sound.sampling_frequency)"
   ]
  },
  {
   "cell_type": "code",
   "execution_count": null,
   "id": "044e2a41",
   "metadata": {},
   "outputs": [],
   "source": [
    "female_sound = change_gender(noise_reduced_sound, \n",
    "                             formant_shift_ratio=1.12,\n",
    "                             pitch_range_factor=1.0)\n",
    "print(female_sound.values, \n",
    "      female_sound.sampling_frequency)\n",
    "Audio(data=female_sound.values, \n",
    "      rate=female_sound.sampling_frequency)\n",
    "\n",
    "# def interactive_change_gender(sound_file=male_file, factor=1.2):\n",
    "#     sound = parselmouth.Sound(sound_file)\n",
    "#     sound_changed_gender = change_gender(sound, formant_shift_ratio=factor)\n",
    "#     return Audio(data=sound_changed_gender.values, rate=sound_changed_gender.sampling_frequency)\n",
    "\n",
    "# w = ipywidgets.interact(interactive_change_gender,\n",
    "#                         factor=ipywidgets.FloatSlider(min=0.25, \n",
    "#                                                       max=4, \n",
    "#                                                       step=0.05, \n",
    "#                                                       value=1.2))"
   ]
  },
  {
   "cell_type": "code",
   "execution_count": null,
   "id": "5555887d",
   "metadata": {},
   "outputs": [],
   "source": [
    "pitch_sound = change_pitch(noise_reduced_sound, \n",
    "                           factor=1.5)\n",
    "print(pitch_sound.values, \n",
    "      pitch_sound.sampling_frequency)\n",
    "Audio(data=pitch_sound.values, \n",
    "      rate=pitch_sound.sampling_frequency)\n",
    "\n",
    "# def interactive_change_pitch(sound_file=male_file, factor=1.5):\n",
    "#     sound = parselmouth.Sound(sound_file)\n",
    "#     sound_changed_pitch = change_pitch(sound, factor)\n",
    "#     return Audio(data=sound_changed_pitch.values, rate=sound_changed_pitch.sampling_frequency)\n",
    "\n",
    "# w = ipywidgets.interact(interactive_change_pitch,\n",
    "#                         factor=ipywidgets.FloatSlider(min=0.25, \n",
    "#                                                       max=4, \n",
    "#                                                       step=0.05, \n",
    "#                                                       value=1.5))"
   ]
  },
  {
   "cell_type": "code",
   "execution_count": null,
   "id": "6634071d",
   "metadata": {},
   "outputs": [],
   "source": [
    "# sf.write(\n",
    "#     file=male_file[:-4]+\"-pitch-changed.wav\",\n",
    "#     data=audio_float2int(pitch_sound.values)[0],\n",
    "#     samplerate=sr,\n",
    "# )"
   ]
  },
  {
   "cell_type": "code",
   "execution_count": null,
   "id": "010506ac",
   "metadata": {},
   "outputs": [],
   "source": [
    "from kaldi.feat.mfcc import Mfcc, MfccOptions\n",
    "from kaldi.feat.mel import MelBanksOptions\n",
    "from kaldi.matrix import Vector\n",
    "from kaldi.gmm import DiagGmm\n",
    "from kaldi.base.io import istream, ifstream"
   ]
  },
  {
   "cell_type": "code",
   "execution_count": null,
   "id": "653dddeb",
   "metadata": {},
   "outputs": [],
   "source": [
    "mel_opts = MelBanksOptions(num_bins=40)\n",
    "mel_opts.low_freq = 20\n",
    "mel_opts.high_freq = -400\n",
    "\n",
    "mfcc_opts = MfccOptions()\n",
    "mfcc_opts.num_ceps = 40\n",
    "mfcc_opts.mel_opts = mel_opts\n",
    "mfcc_opts.use_energy = False\n",
    "\n",
    "mfcc = Mfcc(mfcc_opts)"
   ]
  },
  {
   "cell_type": "code",
   "execution_count": null,
   "id": "da75cee6",
   "metadata": {},
   "outputs": [],
   "source": [
    "mfcc.compute(wave=Vector(pitch_sound.values[0]), vtln_warp=1)"
   ]
  },
  {
   "cell_type": "code",
   "execution_count": null,
   "id": "869dde3b",
   "metadata": {},
   "outputs": [],
   "source": [
    "# gmm_path = \"/home/harold/Documents/IISc-work/\"\\\n",
    "#             \"local-speech-generation/kaldi/s5/\"\\\n",
    "#             \"exp/nnet3_cleaned/extractor/final.dubm\"\n",
    "# stream = ifstream.from_file(gmm_path)\n",
    "# dubm = DiagGmm.read(stream)"
   ]
  },
  {
   "cell_type": "code",
   "execution_count": null,
   "id": "8f27696b",
   "metadata": {},
   "outputs": [],
   "source": [
    "from sonorus.speech.kaldi.create_confs import (create_mfcc_conf,\n",
    "                                               create_ivector_extractor_conf)\n",
    "\n",
    "from sonorus.speech.kaldi import PhonemeSegmenter"
   ]
  },
  {
   "cell_type": "code",
   "execution_count": null,
   "id": "f0016120-a6ac-4767-bf96-76ade4af9602",
   "metadata": {},
   "outputs": [],
   "source": [
    "phoneme_segmenter = PhonemeSegmenter.from_url(force_download=False)"
   ]
  },
  {
   "cell_type": "code",
   "execution_count": null,
   "id": "0a8a2397",
   "metadata": {},
   "outputs": [],
   "source": [
    "wav_file = \"/home/harold/Pictures/data/test/chapter-33-pitch-changed.wav\"\n",
    "wav_scp = \"/home/harold/Pictures/data/test/wav.scp\"\n",
    "spk2utt = \"/home/harold/Pictures/data/test/spk2utt\""
   ]
  },
  {
   "cell_type": "code",
   "execution_count": null,
   "id": "089829c5",
   "metadata": {},
   "outputs": [],
   "source": [
    "seg = phoneme_segmenter.segment(pitch_sound.values, sample_rate=sr)\n",
    "seg"
   ]
  },
  {
   "cell_type": "code",
   "execution_count": null,
   "id": "9ada6fc0",
   "metadata": {},
   "outputs": [],
   "source": [
    "from hr.lip_control import PhonemesPublisher\n",
    "\n",
    "phoneme_pub = PhonemesPublisher()\n",
    "phoneme_pub.to_visemes(seg[\"utt1\"][\"phonemes\"])"
   ]
  },
  {
   "cell_type": "code",
   "execution_count": null,
   "id": "09bbd854",
   "metadata": {},
   "outputs": [],
   "source": [
    "from sonorus.audio import VADAudioInputStreamer"
   ]
  },
  {
   "cell_type": "code",
   "execution_count": null,
   "id": "5825e05c",
   "metadata": {},
   "outputs": [],
   "source": [
    "audio_streamer = VADAudioInputStreamer(\n",
    "    pa_format=pyaudio.paInt16, \n",
    ")\n",
    "\n",
    "with audio_streamer as streamer:\n",
    "        for stream in streamer.stream():\n",
    "            if stream is not None:\n",
    "                audio = np.frombuffer(stream, dtype=np.int16)\n",
    "                print(audio.shape, audio[:5])\n",
    "                phonemes = phoneme_segmenter.segment(\n",
    "                    audio, sample_rate=streamer.processing_rate)\n",
    "                print(phonemes)"
   ]
  }
 ],
 "metadata": {
  "kernelspec": {
   "display_name": "Python 3",
   "language": "python",
   "name": "python3"
  },
  "language_info": {
   "codemirror_mode": {
    "name": "ipython",
    "version": 3
   },
   "file_extension": ".py",
   "mimetype": "text/x-python",
   "name": "python",
   "nbconvert_exporter": "python",
   "pygments_lexer": "ipython3",
   "version": "3.8.10"
  }
 },
 "nbformat": 4,
 "nbformat_minor": 5
}
